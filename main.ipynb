{
 "cells": [
  {
   "cell_type": "code",
   "execution_count": 1,
   "id": "eb1386b2-b871-4c18-85b9-fa4bddf70ed3",
   "metadata": {},
   "outputs": [],
   "source": [
    "# modules\n",
    "import os\n",
    "import soundata\n",
    "import numpy as np\n",
    "import pandas as pd\n",
    "import soundfile as sf\n",
    "import matplotlib.pyplot as plt\n",
    "from IPython.display import Audio\n",
    "\n",
    "# pipeline\n",
    "from utils import SpatialProcessor"
   ]
  },
  {
   "cell_type": "markdown",
   "id": "23117524",
   "metadata": {},
   "source": [
    "#### Using UrbanSound8k Dataset and Soundata for data validation\n",
    "- classID - A numeric identifier of the sound class:\n",
    "    - 0 = air_conditioner\n",
    "    - 1 = car_horn\n",
    "    - 2 = children_playing\n",
    "    - 3 = dog_bark\n",
    "    - 4 = drilling\n",
    "    - 5 = engine_idling\n",
    "    - 6 = gun_shot\n",
    "    - 7 = jackhammer\n",
    "    - 8 = siren\n",
    "    - 9 = street_music\n",
    "\n",
    "#### For this project the siren label taxonomy will be used."
   ]
  },
  {
   "cell_type": "code",
   "execution_count": 2,
   "id": "426b3090-1be0-4d04-b89f-61e9fa6baffc",
   "metadata": {},
   "outputs": [
    {
     "name": "stdout",
     "output_type": "stream",
     "text": [
      "dcase23_task2\n",
      "dcase23_task4b\n",
      "dcase23_task6a\n",
      "dcase23_task6b\n",
      "dcase_bioacoustic\n",
      "dcase_birdVox20k\n",
      "eigenscape\n",
      "eigenscape_raw\n",
      "esc50\n",
      "freefield1010\n",
      "fsd50k\n",
      "fsdnoisy18k\n",
      "marco\n",
      "singapura\n",
      "starss2022\n",
      "tau2019sse\n",
      "tau2019uas\n",
      "tau2020sse_nigens\n",
      "tau2020uas_mobile\n",
      "tau2021sse_nigens\n",
      "tau2022uas_mobile\n",
      "tut2017se\n",
      "urbansed\n",
      "urbansound8k\n",
      "warblrb10k\n"
     ]
    }
   ],
   "source": [
    "# available datasets in soundata \n",
    "for dataset in soundata.list_datasets():\n",
    "    print(dataset)"
   ]
  },
  {
   "cell_type": "code",
   "execution_count": 10,
   "id": "2962b5b1",
   "metadata": {},
   "outputs": [],
   "source": [
    "dataset = soundata.initialize('urbansound8k', data_home='/Users/calodii/Desktop/stuff/home/threed-audio/final/aural-alert')\n",
    "# dataset.download()\n",
    "# dataset.validate()\n",
    "\n",
    "# metadata\n",
    "# metadata = pd.read_csv(dataset.metadata_path)"
   ]
  },
  {
   "cell_type": "markdown",
   "id": "e06a48cb",
   "metadata": {},
   "source": [
    "# Dataset Development\n",
    "#### Spatialization Pipeline\n",
    "- Extract \"siren\" class clips form the UrbanSound8k datasets and normalize sample rates to 48kHz\n",
    "\n",
    "#### Metadata Embedding\n",
    "- Use metadata fields for:\n",
    "    - Urgency Levels (0-5 scale)\n",
    "    - Proximity (meters/dBSPL reference)\n",
    "    - Spatial Position (azimuth/elevation (degrees))\n",
    "\n",
    "#### Spatial Capture Simulation\n",
    "- Proces mno files through Ambisonic encoders (Pro Tools)\n",
    "- Apply synthesized room acoustics using REAKTOR BRIR Generator for:\n",
    "    - Hallways (long RT60)\n",
    "    - Office Rooms (short RT60)\n",
    "\n",
    "# 3D Audio Implementation\n",
    "#### HRTF Spatialization\n",
    "- Near-field HRTF compensation (<1m sources>)\n",
    "Dynamic ITD/ILD adjustment based on urgency (e.g. +15% ILD for critical signals)\n",
    "- Map urgency to spectral brightness\n",
    "- Directional encoding: $0^{\\circ}$=fire, $120^{\\circ}$=gas leak, $240^{\\circ}$=evacuation route"
   ]
  },
  {
   "cell_type": "markdown",
   "id": "2d2c3f57",
   "metadata": {},
   "source": [
    "# VBAP Implementation\n",
    "- Using Faust's VBAP library increase spread range from $15^{\\circ}$(normal) to $45^{\\circ}$(urgent)."
   ]
  },
  {
   "cell_type": "code",
   "execution_count": 11,
   "id": "e8674fb5",
   "metadata": {},
   "outputs": [],
   "source": [
    "# 3d vbap setup (8 speakers in cube configuration)\n",
    "positions = [\n",
    "    [1,1,1], [-1,1,1], [-1,-1,1], [1,-1,1],\n",
    "    [1,1,-1], [-1,1,-1], [-1,-1,-1], [1,-1,-1]\n",
    "]"
   ]
  },
  {
   "cell_type": "code",
   "execution_count": 12,
   "id": "86b5bf48",
   "metadata": {},
   "outputs": [
    {
     "ename": "LibsndfileError",
     "evalue": "Error opening '/Users/calodii/Desktop/stuff/home/threed-audio/final/aural-alert/fold7/102853-8-0-0.wav': System error.",
     "output_type": "error",
     "traceback": [
      "\u001b[0;31m---------------------------------------------------------------------------\u001b[0m",
      "\u001b[0;31mLibsndfileError\u001b[0m                           Traceback (most recent call last)",
      "Cell \u001b[0;32mIn[12], line 12\u001b[0m\n\u001b[1;32m     10\u001b[0m first_siren \u001b[38;5;241m=\u001b[39m siren_metadata\u001b[38;5;241m.\u001b[39miloc[\u001b[38;5;241m0\u001b[39m]\n\u001b[1;32m     11\u001b[0m audio_path \u001b[38;5;241m=\u001b[39m os\u001b[38;5;241m.\u001b[39mpath\u001b[38;5;241m.\u001b[39mjoin(\u001b[38;5;124m'\u001b[39m\u001b[38;5;124mfold\u001b[39m\u001b[38;5;124m'\u001b[39m \u001b[38;5;241m+\u001b[39m \u001b[38;5;28mstr\u001b[39m(first_siren[\u001b[38;5;124m'\u001b[39m\u001b[38;5;124mfold\u001b[39m\u001b[38;5;124m'\u001b[39m]), first_siren[\u001b[38;5;124m'\u001b[39m\u001b[38;5;124mslice_file_name\u001b[39m\u001b[38;5;124m'\u001b[39m])\n\u001b[0;32m---> 12\u001b[0m audio_data, sample_rate \u001b[38;5;241m=\u001b[39m \u001b[43mload_audio\u001b[49m\u001b[43m(\u001b[49m\u001b[43maudio_path\u001b[49m\u001b[43m)\u001b[49m\n\u001b[1;32m     14\u001b[0m \u001b[38;5;66;03m# Play the audio\u001b[39;00m\n\u001b[1;32m     15\u001b[0m Audio(data\u001b[38;5;241m=\u001b[39maudio_data, rate\u001b[38;5;241m=\u001b[39msample_rate)\n",
      "Cell \u001b[0;32mIn[12], line 7\u001b[0m, in \u001b[0;36mload_audio\u001b[0;34m(file_path)\u001b[0m\n\u001b[1;32m      5\u001b[0m \u001b[38;5;28;01mdef\u001b[39;00m\u001b[38;5;250m \u001b[39m\u001b[38;5;21mload_audio\u001b[39m(file_path):\n\u001b[1;32m      6\u001b[0m     audio_path \u001b[38;5;241m=\u001b[39m os\u001b[38;5;241m.\u001b[39mpath\u001b[38;5;241m.\u001b[39mjoin(dataset\u001b[38;5;241m.\u001b[39mdata_home, file_path)\n\u001b[0;32m----> 7\u001b[0m     \u001b[38;5;28;01mreturn\u001b[39;00m \u001b[43msf\u001b[49m\u001b[38;5;241;43m.\u001b[39;49m\u001b[43mread\u001b[49m\u001b[43m(\u001b[49m\u001b[43maudio_path\u001b[49m\u001b[43m)\u001b[49m\n",
      "File \u001b[0;32m/opt/homebrew/Caskroom/miniconda/base/envs/tf-metal/lib/python3.9/site-packages/soundfile.py:305\u001b[0m, in \u001b[0;36mread\u001b[0;34m(file, frames, start, stop, dtype, always_2d, fill_value, out, samplerate, channels, format, subtype, endian, closefd)\u001b[0m\n\u001b[1;32m    219\u001b[0m \u001b[38;5;28;01mdef\u001b[39;00m\u001b[38;5;250m \u001b[39m\u001b[38;5;21mread\u001b[39m(file, frames\u001b[38;5;241m=\u001b[39m\u001b[38;5;241m-\u001b[39m\u001b[38;5;241m1\u001b[39m, start\u001b[38;5;241m=\u001b[39m\u001b[38;5;241m0\u001b[39m, stop\u001b[38;5;241m=\u001b[39m\u001b[38;5;28;01mNone\u001b[39;00m, dtype\u001b[38;5;241m=\u001b[39m\u001b[38;5;124m'\u001b[39m\u001b[38;5;124mfloat64\u001b[39m\u001b[38;5;124m'\u001b[39m, always_2d\u001b[38;5;241m=\u001b[39m\u001b[38;5;28;01mFalse\u001b[39;00m,\n\u001b[1;32m    220\u001b[0m          fill_value\u001b[38;5;241m=\u001b[39m\u001b[38;5;28;01mNone\u001b[39;00m, out\u001b[38;5;241m=\u001b[39m\u001b[38;5;28;01mNone\u001b[39;00m, samplerate\u001b[38;5;241m=\u001b[39m\u001b[38;5;28;01mNone\u001b[39;00m, channels\u001b[38;5;241m=\u001b[39m\u001b[38;5;28;01mNone\u001b[39;00m,\n\u001b[1;32m    221\u001b[0m          \u001b[38;5;28mformat\u001b[39m\u001b[38;5;241m=\u001b[39m\u001b[38;5;28;01mNone\u001b[39;00m, subtype\u001b[38;5;241m=\u001b[39m\u001b[38;5;28;01mNone\u001b[39;00m, endian\u001b[38;5;241m=\u001b[39m\u001b[38;5;28;01mNone\u001b[39;00m, closefd\u001b[38;5;241m=\u001b[39m\u001b[38;5;28;01mTrue\u001b[39;00m):\n\u001b[1;32m    222\u001b[0m \u001b[38;5;250m    \u001b[39m\u001b[38;5;124;03m\"\"\"Provide audio data from a sound file as NumPy array.\u001b[39;00m\n\u001b[1;32m    223\u001b[0m \n\u001b[1;32m    224\u001b[0m \u001b[38;5;124;03m    By default, the whole file is read from the beginning, but the\u001b[39;00m\n\u001b[0;32m   (...)\u001b[0m\n\u001b[1;32m    303\u001b[0m \n\u001b[1;32m    304\u001b[0m \u001b[38;5;124;03m    \"\"\"\u001b[39;00m\n\u001b[0;32m--> 305\u001b[0m     \u001b[38;5;28;01mwith\u001b[39;00m \u001b[43mSoundFile\u001b[49m\u001b[43m(\u001b[49m\u001b[43mfile\u001b[49m\u001b[43m,\u001b[49m\u001b[43m \u001b[49m\u001b[38;5;124;43m'\u001b[39;49m\u001b[38;5;124;43mr\u001b[39;49m\u001b[38;5;124;43m'\u001b[39;49m\u001b[43m,\u001b[49m\u001b[43m \u001b[49m\u001b[43msamplerate\u001b[49m\u001b[43m,\u001b[49m\u001b[43m \u001b[49m\u001b[43mchannels\u001b[49m\u001b[43m,\u001b[49m\n\u001b[1;32m    306\u001b[0m \u001b[43m                   \u001b[49m\u001b[43msubtype\u001b[49m\u001b[43m,\u001b[49m\u001b[43m \u001b[49m\u001b[43mendian\u001b[49m\u001b[43m,\u001b[49m\u001b[43m \u001b[49m\u001b[38;5;28;43mformat\u001b[39;49m\u001b[43m,\u001b[49m\u001b[43m \u001b[49m\u001b[43mclosefd\u001b[49m\u001b[43m)\u001b[49m \u001b[38;5;28;01mas\u001b[39;00m f:\n\u001b[1;32m    307\u001b[0m         frames \u001b[38;5;241m=\u001b[39m f\u001b[38;5;241m.\u001b[39m_prepare_read(start, stop, frames)\n\u001b[1;32m    308\u001b[0m         data \u001b[38;5;241m=\u001b[39m f\u001b[38;5;241m.\u001b[39mread(frames, dtype, always_2d, fill_value, out)\n",
      "File \u001b[0;32m/opt/homebrew/Caskroom/miniconda/base/envs/tf-metal/lib/python3.9/site-packages/soundfile.py:690\u001b[0m, in \u001b[0;36mSoundFile.__init__\u001b[0;34m(self, file, mode, samplerate, channels, subtype, endian, format, closefd, compression_level, bitrate_mode)\u001b[0m\n\u001b[1;32m    687\u001b[0m \u001b[38;5;28mself\u001b[39m\u001b[38;5;241m.\u001b[39m_bitrate_mode \u001b[38;5;241m=\u001b[39m bitrate_mode\n\u001b[1;32m    688\u001b[0m \u001b[38;5;28mself\u001b[39m\u001b[38;5;241m.\u001b[39m_info \u001b[38;5;241m=\u001b[39m _create_info_struct(file, mode, samplerate, channels,\n\u001b[1;32m    689\u001b[0m                                  \u001b[38;5;28mformat\u001b[39m, subtype, endian)\n\u001b[0;32m--> 690\u001b[0m \u001b[38;5;28mself\u001b[39m\u001b[38;5;241m.\u001b[39m_file \u001b[38;5;241m=\u001b[39m \u001b[38;5;28;43mself\u001b[39;49m\u001b[38;5;241;43m.\u001b[39;49m\u001b[43m_open\u001b[49m\u001b[43m(\u001b[49m\u001b[43mfile\u001b[49m\u001b[43m,\u001b[49m\u001b[43m \u001b[49m\u001b[43mmode_int\u001b[49m\u001b[43m,\u001b[49m\u001b[43m \u001b[49m\u001b[43mclosefd\u001b[49m\u001b[43m)\u001b[49m\n\u001b[1;32m    691\u001b[0m \u001b[38;5;28;01mif\u001b[39;00m \u001b[38;5;28mset\u001b[39m(mode)\u001b[38;5;241m.\u001b[39missuperset(\u001b[38;5;124m'\u001b[39m\u001b[38;5;124mr+\u001b[39m\u001b[38;5;124m'\u001b[39m) \u001b[38;5;129;01mand\u001b[39;00m \u001b[38;5;28mself\u001b[39m\u001b[38;5;241m.\u001b[39mseekable():\n\u001b[1;32m    692\u001b[0m     \u001b[38;5;66;03m# Move write position to 0 (like in Python file objects)\u001b[39;00m\n\u001b[1;32m    693\u001b[0m     \u001b[38;5;28mself\u001b[39m\u001b[38;5;241m.\u001b[39mseek(\u001b[38;5;241m0\u001b[39m)\n",
      "File \u001b[0;32m/opt/homebrew/Caskroom/miniconda/base/envs/tf-metal/lib/python3.9/site-packages/soundfile.py:1265\u001b[0m, in \u001b[0;36mSoundFile._open\u001b[0;34m(self, file, mode_int, closefd)\u001b[0m\n\u001b[1;32m   1262\u001b[0m \u001b[38;5;28;01mif\u001b[39;00m file_ptr \u001b[38;5;241m==\u001b[39m _ffi\u001b[38;5;241m.\u001b[39mNULL:\n\u001b[1;32m   1263\u001b[0m     \u001b[38;5;66;03m# get the actual error code\u001b[39;00m\n\u001b[1;32m   1264\u001b[0m     err \u001b[38;5;241m=\u001b[39m _snd\u001b[38;5;241m.\u001b[39msf_error(file_ptr)\n\u001b[0;32m-> 1265\u001b[0m     \u001b[38;5;28;01mraise\u001b[39;00m LibsndfileError(err, prefix\u001b[38;5;241m=\u001b[39m\u001b[38;5;124m\"\u001b[39m\u001b[38;5;124mError opening \u001b[39m\u001b[38;5;132;01m{0!r}\u001b[39;00m\u001b[38;5;124m: \u001b[39m\u001b[38;5;124m\"\u001b[39m\u001b[38;5;241m.\u001b[39mformat(\u001b[38;5;28mself\u001b[39m\u001b[38;5;241m.\u001b[39mname))\n\u001b[1;32m   1266\u001b[0m \u001b[38;5;28;01mif\u001b[39;00m mode_int \u001b[38;5;241m==\u001b[39m _snd\u001b[38;5;241m.\u001b[39mSFM_WRITE:\n\u001b[1;32m   1267\u001b[0m     \u001b[38;5;66;03m# Due to a bug in libsndfile version <= 1.0.25, frames != 0\u001b[39;00m\n\u001b[1;32m   1268\u001b[0m     \u001b[38;5;66;03m# when opening a named pipe in SFM_WRITE mode.\u001b[39;00m\n\u001b[1;32m   1269\u001b[0m     \u001b[38;5;66;03m# See http://github.com/erikd/libsndfile/issues/77.\u001b[39;00m\n\u001b[1;32m   1270\u001b[0m     \u001b[38;5;28mself\u001b[39m\u001b[38;5;241m.\u001b[39m_info\u001b[38;5;241m.\u001b[39mframes \u001b[38;5;241m=\u001b[39m \u001b[38;5;241m0\u001b[39m\n",
      "\u001b[0;31mLibsndfileError\u001b[0m: Error opening '/Users/calodii/Desktop/stuff/home/threed-audio/final/aural-alert/fold7/102853-8-0-0.wav': System error."
     ]
    }
   ],
   "source": [
    "# Filter for siren sounds (class_id = 8)\n",
    "siren_metadata = metadata[metadata['classID'] == 8]\n",
    "\n",
    "# Function to load an audio file\n",
    "def load_audio(file_path):\n",
    "    audio_path = os.path.join(dataset.data_home, file_path)\n",
    "    return sf.read(audio_path)\n",
    "\n",
    "# Load first siren clip as example\n",
    "first_siren = siren_metadata.iloc[0]\n",
    "audio_path = os.path.join('fold' + str(first_siren['fold']), first_siren['slice_file_name'])\n",
    "audio_data, sample_rate = load_audio(audio_path)\n",
    "\n",
    "# Play the audio\n",
    "Audio(data=audio_data, rate=sample_rate)\n",
    "\n",
    "# Print clip information\n",
    "print(f\"Clip ID: {first_siren['slice_file_name']}\")\n",
    "print(f\"Sample Rate: {sample_rate} Hz\")\n",
    "print(f\"Duration: {len(audio_data)/sample_rate:.2f} seconds\")\n",
    "print(f\"Fold: {first_siren['fold']}\")\n",
    "print(f\"Class: {first_siren['class']}\")"
   ]
  },
  {
   "cell_type": "code",
   "execution_count": null,
   "id": "205ca2d1",
   "metadata": {},
   "outputs": [
    {
     "ename": "FileNotFoundError",
     "evalue": "[Errno 2] No such file or directory: 'hrtf_database.npy'",
     "output_type": "error",
     "traceback": [
      "\u001b[0;31m---------------------------------------------------------------------------\u001b[0m",
      "\u001b[0;31mFileNotFoundError\u001b[0m                         Traceback (most recent call last)",
      "Cell \u001b[0;32mIn[6], line 38\u001b[0m\n\u001b[1;32m     36\u001b[0m \u001b[38;5;66;03m# Example usage\u001b[39;00m\n\u001b[1;32m     37\u001b[0m audio_path \u001b[38;5;241m=\u001b[39m \u001b[38;5;124m'\u001b[39m\u001b[38;5;124maudio/fold1/101415-3-0-2.wav\u001b[39m\u001b[38;5;124m'\u001b[39m  \u001b[38;5;66;03m# Replace with actual siren file\u001b[39;00m\n\u001b[0;32m---> 38\u001b[0m result \u001b[38;5;241m=\u001b[39m \u001b[43mprocess_emergency_signal\u001b[49m\u001b[43m(\u001b[49m\n\u001b[1;32m     39\u001b[0m \u001b[43m    \u001b[49m\u001b[43maudio_path\u001b[49m\u001b[43m,\u001b[49m\n\u001b[1;32m     40\u001b[0m \u001b[43m    \u001b[49m\u001b[43murgency\u001b[49m\u001b[38;5;241;43m=\u001b[39;49m\u001b[38;5;241;43m0.8\u001b[39;49m\u001b[43m,\u001b[49m\u001b[43m  \u001b[49m\u001b[38;5;66;43;03m# High urgency\u001b[39;49;00m\n\u001b[1;32m     41\u001b[0m \u001b[43m    \u001b[49m\u001b[43mazimuth\u001b[49m\u001b[38;5;241;43m=\u001b[39;49m\u001b[38;5;241;43m0\u001b[39;49m\u001b[43m,\u001b[49m\u001b[43m    \u001b[49m\u001b[38;5;66;43;03m# Front direction (fire alarm)\u001b[39;49;00m\n\u001b[1;32m     42\u001b[0m \u001b[43m    \u001b[49m\u001b[43mroom_type\u001b[49m\u001b[38;5;241;43m=\u001b[39;49m\u001b[38;5;124;43m'\u001b[39;49m\u001b[38;5;124;43moffice\u001b[39;49m\u001b[38;5;124;43m'\u001b[39;49m\n\u001b[1;32m     43\u001b[0m \u001b[43m)\u001b[49m\n\u001b[1;32m     45\u001b[0m \u001b[38;5;66;03m# Play the result\u001b[39;00m\n\u001b[1;32m     46\u001b[0m \u001b[38;5;28;01mfrom\u001b[39;00m\u001b[38;5;250m \u001b[39m\u001b[38;5;21;01mIPython\u001b[39;00m\u001b[38;5;21;01m.\u001b[39;00m\u001b[38;5;21;01mdisplay\u001b[39;00m\u001b[38;5;250m \u001b[39m\u001b[38;5;28;01mimport\u001b[39;00m Audio\n",
      "Cell \u001b[0;32mIn[6], line 26\u001b[0m, in \u001b[0;36mprocess_emergency_signal\u001b[0;34m(audio_path, urgency, azimuth, room_type)\u001b[0m\n\u001b[1;32m     23\u001b[0m     audio \u001b[38;5;241m=\u001b[39m audio\u001b[38;5;241m.\u001b[39mmean(axis\u001b[38;5;241m=\u001b[39m\u001b[38;5;241m1\u001b[39m)\n\u001b[1;32m     25\u001b[0m \u001b[38;5;66;03m# Load HRTF and BRIR data (you'll need to provide these)\u001b[39;00m\n\u001b[0;32m---> 26\u001b[0m hrtf \u001b[38;5;241m=\u001b[39m \u001b[43mnp\u001b[49m\u001b[38;5;241;43m.\u001b[39;49m\u001b[43mload\u001b[49m\u001b[43m(\u001b[49m\u001b[38;5;124;43m'\u001b[39;49m\u001b[38;5;124;43mhrtf_database.npy\u001b[39;49m\u001b[38;5;124;43m'\u001b[39;49m\u001b[43m)\u001b[49m  \u001b[38;5;66;03m# Replace with your HRTF database\u001b[39;00m\n\u001b[1;32m     27\u001b[0m brir \u001b[38;5;241m=\u001b[39m np\u001b[38;5;241m.\u001b[39mload(\u001b[38;5;124m'\u001b[39m\u001b[38;5;124mbrir_database.npy\u001b[39m\u001b[38;5;124m'\u001b[39m)  \u001b[38;5;66;03m# Replace with your BRIR database\u001b[39;00m\n\u001b[1;32m     29\u001b[0m \u001b[38;5;66;03m# Apply spatial processing chain\u001b[39;00m\n",
      "File \u001b[0;32m/opt/homebrew/Caskroom/miniconda/base/envs/tf-metal/lib/python3.9/site-packages/numpy/lib/npyio.py:427\u001b[0m, in \u001b[0;36mload\u001b[0;34m(file, mmap_mode, allow_pickle, fix_imports, encoding, max_header_size)\u001b[0m\n\u001b[1;32m    425\u001b[0m     own_fid \u001b[38;5;241m=\u001b[39m \u001b[38;5;28;01mFalse\u001b[39;00m\n\u001b[1;32m    426\u001b[0m \u001b[38;5;28;01melse\u001b[39;00m:\n\u001b[0;32m--> 427\u001b[0m     fid \u001b[38;5;241m=\u001b[39m stack\u001b[38;5;241m.\u001b[39menter_context(\u001b[38;5;28;43mopen\u001b[39;49m\u001b[43m(\u001b[49m\u001b[43mos_fspath\u001b[49m\u001b[43m(\u001b[49m\u001b[43mfile\u001b[49m\u001b[43m)\u001b[49m\u001b[43m,\u001b[49m\u001b[43m \u001b[49m\u001b[38;5;124;43m\"\u001b[39;49m\u001b[38;5;124;43mrb\u001b[39;49m\u001b[38;5;124;43m\"\u001b[39;49m\u001b[43m)\u001b[49m)\n\u001b[1;32m    428\u001b[0m     own_fid \u001b[38;5;241m=\u001b[39m \u001b[38;5;28;01mTrue\u001b[39;00m\n\u001b[1;32m    430\u001b[0m \u001b[38;5;66;03m# Code to distinguish from NumPy binary files and pickles.\u001b[39;00m\n",
      "\u001b[0;31mFileNotFoundError\u001b[0m: [Errno 2] No such file or directory: 'hrtf_database.npy'"
     ]
    }
   ],
   "source": [
    "# initialize spatial processor\n",
    "processor = SpatialProcessor(sample_rate=48000)\n",
    "\n",
    "# metadata\n",
    "metadata = pd.read_csv('metadata/UrbanSound8K.csv')\n",
    "siren_files = metadata[metadata['class'] == 'siren']\n",
    "\n",
    "# Process emergency signals\n",
    "def process_emergency_signal(audio_path: str, \n",
    "                           urgency: float,\n",
    "                           azimuth: float,\n",
    "                           room_type: str = 'office') -> np.ndarray:\n",
    "    \"\"\"Process a single emergency signal with spatial audio effects\"\"\"\n",
    "    \n",
    "    # Load audio file\n",
    "    audio, sr = sf.read(audio_path)\n",
    "    if sr != processor.sample_rate:\n",
    "        # Resample to target rate\n",
    "        audio = signal.resample(audio, int(len(audio) * processor.sample_rate / sr))\n",
    "    \n",
    "    # Convert to mono if stereo\n",
    "    if len(audio.shape) > 1:\n",
    "        audio = audio.mean(axis=1)\n",
    "    \n",
    "    # Load HRTF and BRIR data (you'll need to provide these)\n",
    "    hrtf = np.load('hrtf_database.npy')  # Replace with your HRTF database\n",
    "    brir = np.load('brir_database.npy')  # Replace with your BRIR database\n",
    "    \n",
    "    # Apply spatial processing chain\n",
    "    spatialized = processor.process_hrtf(audio, hrtf, azimuth, 0)\n",
    "    urgent = processor.apply_urgency(spatialized, urgency)\n",
    "    final = processor.apply_brir(urgent, brir, room_type)\n",
    "    \n",
    "    return final\n",
    "\n",
    "# Example usage\n",
    "audio_path = 'audio/fold1/4918-3-0-0.wav'  # Replace with actual siren file\n",
    "result = process_emergency_signal(\n",
    "    audio_path,\n",
    "    urgency=0.8,  # High urgency\n",
    "    azimuth=0,    # Front direction (fire alarm)\n",
    "    room_type='office'\n",
    ")\n",
    "\n",
    "# Play the result\n",
    "from IPython.display import Audio\n",
    "Audio(result.T, rate=processor.sample_rate)"
   ]
  }
 ],
 "metadata": {
  "kernelspec": {
   "display_name": "tf-metal",
   "language": "python",
   "name": "python3"
  },
  "language_info": {
   "codemirror_mode": {
    "name": "ipython",
    "version": 3
   },
   "file_extension": ".py",
   "mimetype": "text/x-python",
   "name": "python",
   "nbconvert_exporter": "python",
   "pygments_lexer": "ipython3",
   "version": "3.9.21"
  }
 },
 "nbformat": 4,
 "nbformat_minor": 5
}
