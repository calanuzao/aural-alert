import numpy as np
import matplotlib.pyplot as plt
import soundata
from IPython.display import Audio


# available datasets in soundata 
